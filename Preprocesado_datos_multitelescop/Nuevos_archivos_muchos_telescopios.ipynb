{
  "nbformat": 4,
  "nbformat_minor": 0,
  "metadata": {
    "colab": {
      "name": "Nuevos_archivos_muchos_telescopios.ipynb",
      "provenance": [],
      "collapsed_sections": [
        "nHrXb9Lu8BG0",
        "rBr6nbKp8DWB",
        "F6TWcRCwWV8f"
      ],
      "toc_visible": true,
      "mount_file_id": "1jqy_SwGY5jNMdT7eo8SHad0-yYiph9Be",
      "authorship_tag": "ABX9TyPK4m8qIrPfBsmaIGDc1rKt",
      "include_colab_link": true
    },
    "kernelspec": {
      "display_name": "Python 3",
      "name": "python3"
    }
  },
  "cells": [
    {
      "cell_type": "markdown",
      "metadata": {
        "id": "view-in-github",
        "colab_type": "text"
      },
      "source": [
        "<a href=\"https://colab.research.google.com/github/ArturoSirvent/TFG_notebooks/blob/main/Preprocesado_datos_multitelescop/Nuevos_archivos_muchos_telescopios.ipynb\" target=\"_parent\"><img src=\"https://colab.research.google.com/assets/colab-badge.svg\" alt=\"Open In Colab\"/></a>"
      ]
    },
    {
      "cell_type": "code",
      "metadata": {
        "id": "OsgrQ58Oz2Yv"
      },
      "source": [
        "\"\"\"\n",
        "function ClickConnect(){\n",
        "    console.log(\"Clicked on connect button\"); \n",
        "    document.querySelector(\"colab-connect-button\").click()\n",
        "}\n",
        "setInterval(ClickConnect,60000)\n",
        "\"\"\""
      ],
      "execution_count": null,
      "outputs": []
    },
    {
      "cell_type": "code",
      "metadata": {
        "id": "9lLnGqjMlTBd"
      },
      "source": [
        "import os\n",
        "import numpy as np\n",
        "import tarfile\n",
        "import re\n",
        "import gzip\n",
        "import glob\n",
        "import re\n",
        "from tqdm.notebook import tqdm\n",
        "import pandas as pd\n",
        "import matplotlib.pyplot as plt"
      ],
      "execution_count": null,
      "outputs": []
    },
    {
      "cell_type": "code",
      "metadata": {
        "id": "ZCVo-Gt_l5es"
      },
      "source": [
        "#los directorios imporatantes son:\n",
        "npy_save_dir=\"/content/drive/MyDrive/prediccion_datos_muchos_telescopios/datos_muchos_tels_seleccion_6_03_21\"\n",
        "datos_compr=\"/content/drive/MyDrive/Datos_CTA_02_03_2021\"\n",
        "npy_data=\"/content/drive/MyDrive/prediccion_datos_muchos_telescopios/datos_muchos_tels_seleccion_6_03_21/npy_data\""
      ],
      "execution_count": null,
      "outputs": []
    },
    {
      "cell_type": "markdown",
      "metadata": {
        "id": "nHrXb9Lu8BG0"
      },
      "source": [
        "#Extraer"
      ]
    },
    {
      "cell_type": "code",
      "metadata": {
        "id": "LGw2RWgdmv1n"
      },
      "source": [
        "def extract_tar(dir_in,dir_out,final_folder=True):\n",
        "    #esta funcion recibe el directorio de un .tar y nos lo pone en una carpeta \n",
        "    #en dir_our con el mismo nombre (si folder=True)\n",
        "    if tarfile.is_tarfile(dir_in)!=True:\n",
        "        print(\"ERROR, NO ES TARF ILE\")\n",
        "        return\n",
        "    else:\n",
        "        with tarfile.open(dir_in) as aux_tar:\n",
        "            if final_folder:\n",
        "                nombre_aux=os.path.basename(dir_in).replace(\".tar\",\"\")\n",
        "                dir_out=f\"{dir_out}/{nombre_aux}\"\n",
        "                os.mkdir(dir_out)\n",
        "            aux_tar.extractall(dir_out)"
      ],
      "execution_count": null,
      "outputs": []
    },
    {
      "cell_type": "code",
      "metadata": {
        "colab": {
          "base_uri": "https://localhost:8080/",
          "height": 128
        },
        "id": "faHOBhxe37QC",
        "outputId": "d7a48df3-1911-4a37-9dfc-9c7d2b94f631"
      },
      "source": [
        ""
      ],
      "execution_count": null,
      "outputs": [
        {
          "output_type": "error",
          "ename": "SyntaxError",
          "evalue": "ignored",
          "traceback": [
            "\u001b[0;36m  File \u001b[0;32m\"<ipython-input-19-41b93d0d2013>\"\u001b[0;36m, line \u001b[0;32m2\u001b[0m\n\u001b[0;31m    l[]\u001b[0m\n\u001b[0m      ^\u001b[0m\n\u001b[0;31mSyntaxError\u001b[0m\u001b[0;31m:\u001b[0m invalid syntax\n"
          ]
        }
      ]
    },
    {
      "cell_type": "code",
      "metadata": {
        "colab": {
          "base_uri": "https://localhost:8080/"
        },
        "id": "ZKT7M2FSoquB",
        "outputId": "e7dfedf2-570a-4660-bcf8-3b8964d015a9"
      },
      "source": [
        "lista_tar=os.listdir(datos_compr)\n",
        "for i in lista_tar:\n",
        "    print(i)\n",
        "    extract_tar(f\"{datos_compr}/{i}\",npy_save_dir,final_folder=True)"
      ],
      "execution_count": null,
      "outputs": [
        {
          "output_type": "stream",
          "text": [
            "iron.tar\n",
            "helium.tar\n",
            "nitrogen.tar\n",
            "silican.tar\n",
            "proton.tar\n",
            "electron.tar\n"
          ],
          "name": "stdout"
        }
      ]
    },
    {
      "cell_type": "markdown",
      "metadata": {
        "id": "rBr6nbKp8DWB"
      },
      "source": [
        "#Descomprimir"
      ]
    },
    {
      "cell_type": "code",
      "metadata": {
        "id": "e0rK9Q6uxCgV"
      },
      "source": [
        "#ahora la descompresion de los archivos\n",
        " \n",
        "#lo primero que vamos a hacer es descomprimir los gunzip que tenemos\n",
        "def descomprimir_gunzip(ground_dir,elements,folders=True):\n",
        "#es necesaria una carpeta con carpetas para los elementos y se crearan nuevas como extract_element\n",
        "  #funcion para descomprimir los elementos gunzip\n",
        "  #ground_dir es la carpeta padre de las otras carpetas o la contenedora de los datos talcual.\n",
        "  #elementos son los [gamma,electron,silicium...]\n",
        "  #folders true nos indica que hay carpetas contenedoras para cada elemento. I false, estan todos los datos\n",
        "  #en el ground directory.\n",
        "  if folders:\n",
        "    for i in elements:\n",
        "        new_folder=f\"{ground_dir}/extract_{i}\"\n",
        "        os.mkdir(new_folder)\n",
        "        element_dir=f\"{ground_dir}/{i}\"\n",
        "        os.chdir(element_dir)\n",
        "        files_names_dt=glob.glob(\"*.dt.gz\")\n",
        "        files_names_txt=[h.replace(\".dt.gz\",\".txt.gz\") for h in files_names_dt]\n",
        "\n",
        "        for j in tqdm(range(len(files_names_dt))):\n",
        "            try:\n",
        "                if (os.path.isfile(f\"{element_dir}/{files_names_dt[j]}\")) and (os.path.isfile(f\"{element_dir}/{files_names_txt[j]}\")):\n",
        "                    #print(files_names_dt[j].replace(\".dt.gz\",\"\"))\n",
        "                    with gzip.open(f\"{element_dir}/{files_names_dt[j]}\",\"rb\") as f:\n",
        "                        new_name_dt=files_names_dt[j].replace(\".dt.gz\",\".dt\")\n",
        "                        fp=open(f\"{new_folder}/{new_name_dt}\",\"wb\")\n",
        "                        aux=f.read()\n",
        "                        fp.write(aux)\n",
        "                        fp.close()\n",
        "                        f.close()\n",
        "                    with gzip.open(f\"{element_dir}/{files_names_txt[j]}\",\"rb\") as f:\n",
        "                        new_name_txt=files_names_txt[j].replace(\".txt.gz\",\".txt\")\n",
        "                        fp=open(f\"{new_folder}/{new_name_txt}\",\"wb\")\n",
        "                        aux=f.read()\n",
        "                        fp.write(aux)\n",
        "                        fp.close()\n",
        "                        f.close()\n",
        "                    \n",
        "                else:\n",
        "                    print(f\"Para el elemento : {files_names_dt[j]} no hay un txt correspondiente\")\n",
        "            except IndexError:\n",
        "                print(\"Hay más elementos dt que txt\")\n",
        "\n",
        "                \n"
      ],
      "execution_count": null,
      "outputs": []
    },
    {
      "cell_type": "code",
      "metadata": {
        "colab": {
          "background_save": true,
          "base_uri": "https://localhost:8080/",
          "height": 49
        },
        "id": "o9vK1kpe5hKC",
        "outputId": "9b68607c-713b-4153-b914-c84fe67500e2"
      },
      "source": [
        "elementos=[\"iron\",\"nitrogen\",\"silicon\",\"electron\",\"helium\",\"proton\",\"gamma\"]\n",
        "descomprimir_gunzip(npy_save_dir,elementos,folders=True)"
      ],
      "execution_count": null,
      "outputs": [
        {
          "output_type": "display_data",
          "data": {
            "application/vnd.jupyter.widget-view+json": {
              "model_id": "05601c447fec4f5eaee5184bff13d375",
              "version_major": 2,
              "version_minor": 0
            },
            "text/plain": [
              "HBox(children=(FloatProgress(value=0.0, max=397.0), HTML(value='')))"
            ]
          },
          "metadata": {
            "tags": []
          }
        },
        {
          "output_type": "stream",
          "text": [
            "\n"
          ],
          "name": "stdout"
        },
        {
          "output_type": "display_data",
          "data": {
            "application/vnd.jupyter.widget-view+json": {
              "model_id": "96c4ac83ea3a4a15a21fa49371838296",
              "version_major": 2,
              "version_minor": 0
            },
            "text/plain": [
              "HBox(children=(FloatProgress(value=0.0, max=794.0), HTML(value='')))"
            ]
          },
          "metadata": {
            "tags": []
          }
        },
        {
          "output_type": "stream",
          "text": [
            "\n"
          ],
          "name": "stdout"
        },
        {
          "output_type": "display_data",
          "data": {
            "application/vnd.jupyter.widget-view+json": {
              "model_id": "ab2a6824cb2b4875863f03d5641c9e04",
              "version_major": 2,
              "version_minor": 0
            },
            "text/plain": [
              "HBox(children=(FloatProgress(value=0.0, max=796.0), HTML(value='')))"
            ]
          },
          "metadata": {
            "tags": []
          }
        },
        {
          "output_type": "stream",
          "text": [
            "\n"
          ],
          "name": "stdout"
        },
        {
          "output_type": "display_data",
          "data": {
            "application/vnd.jupyter.widget-view+json": {
              "model_id": "f813416e019b4e3f958ad95cd212462b",
              "version_major": 2,
              "version_minor": 0
            },
            "text/plain": [
              "HBox(children=(FloatProgress(value=0.0, max=800.0), HTML(value='')))"
            ]
          },
          "metadata": {
            "tags": []
          }
        },
        {
          "output_type": "stream",
          "text": [
            "\n"
          ],
          "name": "stdout"
        },
        {
          "output_type": "display_data",
          "data": {
            "application/vnd.jupyter.widget-view+json": {
              "model_id": "4da7159719a84496b3d35be5578e6c35",
              "version_major": 2,
              "version_minor": 0
            },
            "text/plain": [
              "HBox(children=(FloatProgress(value=0.0, max=800.0), HTML(value='')))"
            ]
          },
          "metadata": {
            "tags": []
          }
        },
        {
          "output_type": "stream",
          "text": [
            "\n"
          ],
          "name": "stdout"
        },
        {
          "output_type": "display_data",
          "data": {
            "application/vnd.jupyter.widget-view+json": {
              "model_id": "c5ab565a11be4535a3ce1d1d8c8a23fb",
              "version_major": 2,
              "version_minor": 0
            },
            "text/plain": [
              "HBox(children=(FloatProgress(value=0.0, max=800.0), HTML(value='')))"
            ]
          },
          "metadata": {
            "tags": []
          }
        },
        {
          "output_type": "stream",
          "text": [
            "\n"
          ],
          "name": "stdout"
        },
        {
          "output_type": "display_data",
          "data": {
            "application/vnd.jupyter.widget-view+json": {
              "model_id": "d7339605094f45beb328cc7130c0cf84",
              "version_major": 2,
              "version_minor": 0
            },
            "text/plain": [
              "HBox(children=(FloatProgress(value=0.0, max=820.0), HTML(value='')))"
            ]
          },
          "metadata": {
            "tags": []
          }
        },
        {
          "output_type": "stream",
          "text": [
            "\n"
          ],
          "name": "stdout"
        }
      ]
    },
    {
      "cell_type": "code",
      "metadata": {
        "id": "i97y_puQ_3B7"
      },
      "source": [
        "a=\".txt\""
      ],
      "execution_count": null,
      "outputs": []
    },
    {
      "cell_type": "markdown",
      "metadata": {
        "id": "F6TWcRCwWV8f"
      },
      "source": [
        "# Que datos tenemos y cuales faltan?"
      ]
    },
    {
      "cell_type": "code",
      "metadata": {
        "id": "HdExnd8jz7E1"
      },
      "source": [
        "def dif_dt_txt(dir,faltantes=False,max_val=None,ending=(\".dt\",\".txt\")):\n",
        "    #esta funcion comprueba si hay los mismo archivos para txt y dt y cuales faltan y hasta que run llegan\n",
        "    #devuelve un diccionario con los telescopios y las runs de cada uno\n",
        "\n",
        "    #si pedimos los faltantes y damos un max_val obtenemos los que no hay en cada run\n",
        "    os.chdir(dir)\n",
        "    file_dt=glob.glob(f\"*{ending[0]}\")\n",
        "    file_txt=glob.glob(f\"*{ending[1]}\")\n",
        "\n",
        "    #primero extraemos la informacion importante, el tel y la run\n",
        "    tel_run_dt=np.array([ np.array([ re.findall(\"tel_([0-9]*)_\",i)[0] ,re.findall(\"run_([0-9]*).\",i)[0]],dtype=\"int\")  for i in file_dt])\n",
        "    tel_run_txt=np.array([ np.array([ re.findall(\"tel_([0-9]*)_\",i)[0] ,re.findall(\"run_([0-9]*).\",i)[0] ],dtype=\"int\")  for i in file_txt])\n",
        "\n",
        "    #una vez tenemos la info, queremos ver si son iguales\n",
        "    #primero las dimensiones\n",
        "    if tel_run_dt.shape[0]!=tel_run_txt.shape[0]:\n",
        "        print(\"Error con las dimensiones, no hay los mismos\")\n",
        "        if tel_run_dt.shape[0] > tel_run_txt.shape[0]:\n",
        "            for i in tel_run_dt:\n",
        "                if not np.all(tel_run_txt==i,axis=-1).any():\n",
        "                    print(f\"El tel_{i[0]}_run_{i[1]}.{ending[0]} no tiene correspondiente {ending[1]}.\")\n",
        "        else:\n",
        "            for i in tel_run_txt:\n",
        "                if not np.all(tel_run_dt==i,axis=-1).any():\n",
        "                    print(f\"El tel_{i[0]}_run_{i[1]}.{ending[1]} no tiene correspondiente {ending[0]}.\")\n",
        "        return None\n",
        "\n",
        "    #son iguales las dos listas?\n",
        "    salir=False\n",
        "    for i in tel_run_dt:\n",
        "        if i not in tel_run_txt:\n",
        "            print(f\"{i} no tiene correspondiente {ending[0]}\")\n",
        "            salir=True\n",
        "    for i in tel_run_txt:\n",
        "        if i not in tel_run_dt:\n",
        "            print(f\"{i} no tiene correspondiente {ending[1]}\")\n",
        "            salir=True\n",
        "    if salir:\n",
        "        return None\n",
        "    else:\n",
        "        print(f\"Para \\\"{os.path.basename(dir)}\\\" todos los {ending[1]} tienen {ending[0]} y viceversa, todo bien.\")\n",
        "    \n",
        "    #si las dimensiones sí estan bien entonces pasamos a listar los telescopios que hay para cada elemento y las runs para cada telescopio\n",
        "    telescopios=sorted(np.unique(tel_run_dt[:,0]))\n",
        "    runs=[sorted(tel_run_dt[tel_run_dt[:,0]==i][:,1]) for i in telescopios]\n",
        "    #por ultimo vamos a hacer un diccionario que tenga el telescopios y las runs que agrupa\n",
        "    if not faltantes:\n",
        "        return dict(zip(telescopios,runs))\n",
        "    else:\n",
        "        if max_val is None:\n",
        "            print(\"pasa un valor maximo para las runs\")\n",
        "            return None\n",
        "        else:\n",
        "            runs_reales=np.arange(1,max_val+1)\n",
        "            run_faltantes=[]\n",
        "            for i in range(len(runs)):\n",
        "                faltan=[]\n",
        "                for j in runs_reales:\n",
        "                    if j not in runs[i]:\n",
        "                        faltan.append(j)\n",
        "                run_faltantes.append(faltan)\n",
        "            diccionario=dict(zip(telescopios,run_faltantes))\n",
        "            for i in telescopios:\n",
        "                if (diccionario[i]==[]):\n",
        "                    diccionario.pop(i)\n",
        "            return diccionario"
      ],
      "execution_count": null,
      "outputs": []
    },
    {
      "cell_type": "code",
      "metadata": {
        "colab": {
          "base_uri": "https://localhost:8080/"
        },
        "id": "bFxYLlDmWU-w",
        "outputId": "f72f4163-d532-4ac8-beae-e75e6f3eedc6"
      },
      "source": [
        "elementos=[\"iron\",\"nitrogen\",\"silicon\",\"electron\",\"helium\",\"proton\",\"gamma\"]\n",
        "max_runs=[20,40,40,40,40,40,41]\n",
        "lista=[]\n",
        "for j,elem in enumerate(elementos):\n",
        "    carpeta=f\"{npy_save_dir}/extract_{elem}\"\n",
        "    lista.append(dif_dt_txt(carpeta,faltantes=True,max_val=max_runs[j]))#,ending=(\".dt.gz\",\"txt.gz\")))\n",
        "\n",
        "lista=dict(zip(elementos,lista))"
      ],
      "execution_count": null,
      "outputs": [
        {
          "output_type": "stream",
          "text": [
            "Para \"extract_iron\" todos los .txt tienen .dt y viceversa, todo bien.\n",
            "Para \"extract_nitrogen\" todos los .txt tienen .dt y viceversa, todo bien.\n",
            "Para \"extract_silicon\" todos los .txt tienen .dt y viceversa, todo bien.\n",
            "Para \"extract_electron\" todos los .txt tienen .dt y viceversa, todo bien.\n",
            "Para \"extract_helium\" todos los .txt tienen .dt y viceversa, todo bien.\n",
            "Para \"extract_proton\" todos los .txt tienen .dt y viceversa, todo bien.\n",
            "Para \"extract_gamma\" todos los .txt tienen .dt y viceversa, todo bien.\n"
          ],
          "name": "stdout"
        }
      ]
    },
    {
      "cell_type": "code",
      "metadata": {
        "colab": {
          "base_uri": "https://localhost:8080/"
        },
        "id": "mxBwBHcTq9II",
        "outputId": "bcfcecf6-5f74-4240-f124-c925d88ef469"
      },
      "source": [
        "#bueno podemos ver que no esta bien esta\n",
        "lista"
      ],
      "execution_count": null,
      "outputs": [
        {
          "output_type": "execute_result",
          "data": {
            "text/plain": [
              "{'electron': {},\n",
              " 'gamma': {},\n",
              " 'helium': {},\n",
              " 'iron': {101: [5, 15], 102: [12]},\n",
              " 'nitrogen': {101: [30, 39], 102: [27], 103: [29, 33], 104: [12]},\n",
              " 'proton': {},\n",
              " 'silicon': {101: [8, 40], 104: [29, 38]}}"
            ]
          },
          "metadata": {
            "tags": []
          },
          "execution_count": 202
        }
      ]
    },
    {
      "cell_type": "code",
      "metadata": {
        "colab": {
          "base_uri": "https://localhost:8080/"
        },
        "id": "dwZ0gJXqH55p",
        "outputId": "d8d75729-92e9-4052-a650-8c4d930057c7"
      },
      "source": [
        "elementos=[\"iron\",\"nitrogen\",\"silicon\",\"electron\",\"helium\",\"proton\",\"gamma\"]\n",
        "max_runs=[20,40,40,40,40,40,41]\n",
        "lista=[]\n",
        "for j,elem in enumerate(elementos):\n",
        "    carpeta=f\"{npy_save_dir}/{elem}\"\n",
        "    lista.append(dif_dt_txt(carpeta,faltantes=True,max_val=max_runs[j],ending=(\".dt.gz\",\"txt.gz\")))\n",
        "\n",
        "lista=dict(zip(elementos,lista))\n",
        "lista"
      ],
      "execution_count": null,
      "outputs": [
        {
          "output_type": "stream",
          "text": [
            "Error con las dimensiones, no hay los mismos\n",
            "El tel_101_run_5.txt.gz no tiene correspondiente .dt.gz.\n",
            "El tel_101_run_15.txt.gz no tiene correspondiente .dt.gz.\n",
            "El tel_102_run_12.txt.gz no tiene correspondiente .dt.gz.\n",
            "Error con las dimensiones, no hay los mismos\n",
            "El tel_101_run_39.txt.gz no tiene correspondiente .dt.gz.\n",
            "El tel_101_run_30.txt.gz no tiene correspondiente .dt.gz.\n",
            "El tel_102_run_27.txt.gz no tiene correspondiente .dt.gz.\n",
            "El tel_103_run_33.txt.gz no tiene correspondiente .dt.gz.\n",
            "El tel_103_run_29.txt.gz no tiene correspondiente .dt.gz.\n",
            "El tel_104_run_12.txt.gz no tiene correspondiente .dt.gz.\n",
            "Error con las dimensiones, no hay los mismos\n",
            "El tel_101_run_8.txt.gz no tiene correspondiente .dt.gz.\n",
            "El tel_101_run_40.txt.gz no tiene correspondiente .dt.gz.\n",
            "El tel_104_run_38.txt.gz no tiene correspondiente .dt.gz.\n",
            "El tel_104_run_29.txt.gz no tiene correspondiente .dt.gz.\n",
            "Para \"electron\" todos los txt.gz tienen .dt.gz y viceversa, todo bien.\n",
            "Para \"helium\" todos los txt.gz tienen .dt.gz y viceversa, todo bien.\n",
            "Para \"proton\" todos los txt.gz tienen .dt.gz y viceversa, todo bien.\n",
            "Para \"gamma\" todos los txt.gz tienen .dt.gz y viceversa, todo bien.\n"
          ],
          "name": "stdout"
        },
        {
          "output_type": "execute_result",
          "data": {
            "text/plain": [
              "{'electron': {},\n",
              " 'gamma': {},\n",
              " 'helium': {},\n",
              " 'iron': None,\n",
              " 'nitrogen': None,\n",
              " 'proton': {},\n",
              " 'silicon': None}"
            ]
          },
          "metadata": {
            "tags": []
          },
          "execution_count": 268
        }
      ]
    },
    {
      "cell_type": "code",
      "metadata": {
        "colab": {
          "base_uri": "https://localhost:8080/"
        },
        "id": "4Sb4sfQjJ8la",
        "outputId": "7e4b9a23-ff0c-40ce-90d7-e766790cd218"
      },
      "source": [
        "np.all(a[1][:2]==[4,17],axis=1)"
      ],
      "execution_count": null,
      "outputs": [
        {
          "output_type": "execute_result",
          "data": {
            "text/plain": [
              "array([ True, False])"
            ]
          },
          "metadata": {
            "tags": []
          },
          "execution_count": 273
        }
      ]
    },
    {
      "cell_type": "markdown",
      "metadata": {
        "id": "-XEOqGpD_HLT"
      },
      "source": [
        "#Ahora procesarlos para obtener las imagenes npy y las labels de energia"
      ]
    },
    {
      "cell_type": "code",
      "metadata": {
        "id": "4mWDb45d-IVV"
      },
      "source": [
        "#GUARDAR LOS ARCHIVOS COMO .NPY pero sin normalizar ni nada\n",
        " \n",
        "#tenemos que buscar una forma de que no guardemos archivos npy de mas de un giga (por poner un limite)\n",
        "#from tqdm.notebook import tqdm\n",
        " \n",
        "def multiple_dt_2_npy(lista_archivos,npy_dir,limit_size=0.35,save_events_id=False,verbose=False):\n",
        "    #le pasamos una lista de directorios y los guardará descomprimidos y sin normalizar en npy_dir\n",
        "    #ground_dir es el directorio base para las carpetas o para los archivos\n",
        "    #npy_dir es el directorio para guardar todosl os .npy juntos, sin fantasia ni carpetas\n",
        "    #folders=True es que lo .dt estan en carpetas\n",
        "    #limit_size limite de peso en gigas de los .npy, por defecto esat en 350 Mb ó 0.35 Gigas\n",
        "    limit_size=limit_size*1e9 # pasamos de gigas a bytes \n",
        "    npy_dir_aux=npy_dir\n",
        "    num_pix_x=0\n",
        "    num_pix_y=0\n",
        "    files_names=lista_archivos\n",
        "    verbose_list=[]\n",
        "    for j in range(len(files_names)):\n",
        "        contador_nombre=0\n",
        "        dt_list=[]  \n",
        "        nombre_archivo=re.findall(\"([a-zA-Z]*_tel_[0-9]*_run_\\d\\d).dt\",files_names[j])[0]\n",
        "        aux_df=pd.read_csv(files_names[j],sep='  ',names=[\"1\",\"2\",\"3\",\"4\",\"5\",\"6\"],engine=\"python\")\n",
        "        #ahora la procesamos y la guardamos en un npy\n",
        "        value_auf=aux_df[['1','3','4','5']].copy()\n",
        "        del aux_df\n",
        "        #tenemos que agupar los valores \n",
        "        value_auf.loc[value_auf[\"5\"]<0,\"5\"]=0\n",
        "        #max_aux=np.amax(value_auf[\"5\"])\n",
        "        #value_auf[\"5\"]=value_auf[\"5\"]/max_aux\n",
        "        x_minimo=min(value_auf['3'])\n",
        "        y_minimo=min(value_auf['4'])\n",
        "        events=value_auf[\"1\"].unique()\n",
        "        num_pix_x_aux=value_auf[\"3\"].unique().size\n",
        "        num_pix_y_aux=value_auf[\"4\"].unique().size\n",
        "        if (num_pix_x != num_pix_x_aux) or (num_pix_y != num_pix_y_aux) : #tenemos que ser capacer de cambiar segun si observamos un telescopio u otro\n",
        "            num_pix_x=num_pix_x_aux\n",
        "            num_pix_y=num_pix_y_aux\n",
        "            if verbose:\n",
        "                #print(num_pix_x,num_pix_y)\n",
        "                verbose_list.append((num_pix_x,num_pix_y))\n",
        " \n",
        "            x_minimo=min(value_auf['3'])\n",
        "            y_minimo=min(value_auf['4'])\n",
        "            ##!!!esto puede dar problemas si resulta que para el primer evento faltan datos o algo...\n",
        "            auxiliar=value_auf.loc[value_auf[\"1\"]==events[0]][[\"3\",\"4\",\"5\"]].to_numpy()\n",
        "            #ahora tenemos los datos de los pixeles, podemos obtener lo que ocupa cada pixel\n",
        "            size_pix_x=np.ceil((max(auxiliar[:,0])-min(auxiliar[:,0]))/(np.unique(auxiliar[:,0]).size-1))\n",
        "            size_pix_y=np.ceil((max(auxiliar[:,1])-min(auxiliar[:,1]))/(np.unique(auxiliar[:,1]).size-1))\n",
        "            del auxiliar\n",
        "        if verbose:\n",
        "            #print(nombre_archivo,end=\"\\n\")\n",
        "            verbose_list.append(nombre_archivo)\n",
        " \n",
        "        value_auf.loc[:,'3']=value_auf['3'].apply(lambda x: round((x-x_minimo)/size_pix_x))\n",
        "        value_auf.loc[:,'4']=value_auf['4'].apply(lambda x: round((x-y_minimo)/size_pix_y))\n",
        "        #event_aux=value_auf[\"1\"].unique()\n",
        "        for k in range(np.shape(events)[0]):\n",
        "            #cada evento tiene que ponerse en una imagen con sus valores\n",
        "            array_aux=value_auf.loc[value_auf[\"1\"]==events[k]][[\"3\",\"4\",\"5\"]]\n",
        "            #lo que vamos a hacer es poner los valores en una matriz creada de antemano y guardar esa matrix\n",
        "            #esos numeros vienen del maximo y el minimo valor para los pixeles, simplemente shifteamos todo\n",
        "            matrix_aux=np.zeros((num_pix_x,num_pix_y)) #eran 60-5= 55 y 131-38\n",
        "            matrix_aux[array_aux[\"3\"].to_numpy(),array_aux[\"4\"].to_numpy()]=array_aux[\"5\"].to_numpy() \n",
        "            dt_list.append(matrix_aux)\n",
        "            if limit_size!=0:\n",
        "                if (np.array(dt_list).nbytes>limit_size):\n",
        "                    if contador_nombre==0:\n",
        "                        name_npy=f\"{npy_dir_auxf}/npy_sin_norm_{nombre_archivo}_{contador_nombre}.npy\"\n",
        "                    np.save(name_npy,np.array(dt_list))\n",
        "                    del dt_list\n",
        "                    dt_list=[]\n",
        "                    contador_nombre+=1\n",
        "        name_npy=f\"{npy_dir_aux}/npy_sin_normal_{nombre_archivo}_{contador_nombre}.npy\"\n",
        "        np.save(name_npy,np.array(dt_list))\n",
        "        del dt_list\n",
        "        if save_events_id:\n",
        "            name_npy_events=f\"{npy_dir_aux}/id_eventos_npy_sin_normal_{nombre_archivo}.npy\"\n",
        "            np.save(name_npy_events,np.array(events))\n",
        "    if verbose:\n",
        "        return verbose_list"
      ],
      "execution_count": null,
      "outputs": []
    },
    {
      "cell_type": "code",
      "metadata": {
        "id": "hhSywjfh23jH"
      },
      "source": [
        "def lista_dt(dt_dir):\n",
        "    return sorted(glob.glob(f\"{dt_dir}/*.dt\"))\n",
        "def lista_txt(txt_dir):\n",
        "    return sorted(glob.glob(f\"{txt_dir}/*.dt\"))"
      ],
      "execution_count": null,
      "outputs": []
    },
    {
      "cell_type": "code",
      "metadata": {
        "colab": {
          "background_save": true
        },
        "id": "cNU61AxNos-H"
      },
      "source": [
        "#tenemos que pasarle una lista de los archivos a descomprimir y decirle donde\n",
        "elementos=[\"gamma\"]\n",
        " \n",
        "#vamos a entrar en cada extract folder,\n",
        "#vamos a convertir cada .dt en un npy en una carpeta npy_elemento en npy_data\n",
        "#ya estaría\n",
        " \n",
        "for i,j in enumerate(elementos):\n",
        "    #cargamos los nombres que necesitamos \n",
        "    fold_name=f\"{npy_save_dir}/extract_{j}\"  \n",
        "    names_files=lista_dt(fold_name)\n",
        "    #long=len(names_files)//2\n",
        "    long2=len(names_files)-len(names_files)//3\n",
        "    names_files=names_files[long2:]\n",
        "    #creamos la carpeta destino\n",
        "    carpeta_destino_name=f\"{npy_data}/npy_{j}\"\n",
        "    #os.mkdir(carpeta_destino_name)\n",
        "    #ahora solo tenemos que darle a la funcion la lista y el destino\n",
        "    out=multiple_dt_2_npy(names_files,carpeta_destino_name,save_events_id=True,verbose=True)\n",
        "    with open(f\"{npy_data}/verbose_npy_{j}_parte3.txt\",\"w\") as file_aux:\n",
        "        file_aux.write(str(out)) #podriamos poner .replace(\"[\",\"\").replace(\"]\",\"\") para quitar los bordes\n",
        "        file_aux.close()\n",
        "    del out"
      ],
      "execution_count": null,
      "outputs": []
    },
    {
      "cell_type": "code",
      "metadata": {
        "id": "0J250Kjx6SyQ"
      },
      "source": [
        "#VARIANTE!!! SI TARDA MUCHO, HACEMOS UN LISTA AUXILIAR DONDE GUARDAMOS LAS QUE SE\n",
        "#VAN GUARDANDO, Y AL REINICIAR SE LEE LA LISTA Y SE IGNORAN LAS QUE YA SE HAN PASADO\n",
        "\n",
        "#tenemos que pasarle una lista de los archivos a descomprimir y decirle donde\n",
        "elementos=[\"gamma\"]\n",
        "\n",
        "#vamos a entrar en cada extract folder,\n",
        "#vamos a convertir cada .dt en un npy en una carpeta npy_elemento en npy_data\n",
        "#ya estaría\n",
        "\n",
        "for i,j in enumerate(elementos):\n",
        "\n",
        "\n",
        "    #cargamos los nombres que necesitamos \n",
        "    fold_name=f\"{npy_save_dir}/extract_{j}\"\n",
        "    names_files=lista_dt(fold_name)\n",
        "    #creamos la carpeta destino\n",
        "    carpeta_destino_name=f\"{npy_data}/npy_{j}\"\n",
        "    if not os.path.isdir(carpeta_destino):\n",
        "        os.mkdir(carpeta_destino_name)\n",
        "        files_done=[]\n",
        "    else:\n",
        "        files_done=list(np.load(f\"{carpeta_destino_name}/files_done_{j}.py\"))\n",
        "    #ahora solo tenemos que darle a la funcion la lista y el destino\n",
        "    for k in names_files:\n",
        "        if k not in files_done:\n",
        "            multiple_dt_2_npy(k,carpeta_destino_name,save_events_id=True,verbose=False)\n",
        "            files_done.append(k)\n",
        "            np.save(f\"{carpeta_destino_name}/files_done_{j}.py\",files_done)"
      ],
      "execution_count": null,
      "outputs": []
    },
    {
      "cell_type": "markdown",
      "metadata": {
        "id": "UC3xdDt85kxA"
      },
      "source": [
        "## Problema con los telescopios 58 59..."
      ]
    },
    {
      "cell_type": "code",
      "metadata": {
        "id": "AjTnjCsbq5o3"
      },
      "source": [
        "a1=np.load(\"/content/drive/MyDrive/prediccion_datos_muchos_telescopios/datos_muchos_tels_seleccion_6_03_21/npy_data/npy_iron/npy_sin_normal_iron_tel_59_run_01_0.npy\")"
      ],
      "execution_count": null,
      "outputs": []
    },
    {
      "cell_type": "code",
      "metadata": {
        "colab": {
          "base_uri": "https://localhost:8080/"
        },
        "id": "43HiibN48EIV",
        "outputId": "87af90ca-49b0-407e-848a-d7a478997bd1"
      },
      "source": [
        "a1.shape"
      ],
      "execution_count": null,
      "outputs": [
        {
          "output_type": "execute_result",
          "data": {
            "text/plain": [
              "(363, 55, 93)"
            ]
          },
          "metadata": {
            "tags": []
          },
          "execution_count": 14
        }
      ]
    },
    {
      "cell_type": "code",
      "metadata": {
        "colab": {
          "base_uri": "https://localhost:8080/",
          "height": 493
        },
        "id": "z43ol5zj8Ftb",
        "outputId": "72f5ff0f-8381-48d3-f624-8a6997ffe1d6"
      },
      "source": [
        "plt.figure(figsize=(13,13))\n",
        "plt.imshow(a1[76])"
      ],
      "execution_count": null,
      "outputs": [
        {
          "output_type": "execute_result",
          "data": {
            "text/plain": [
              "<matplotlib.image.AxesImage at 0x7f94b8c96f50>"
            ]
          },
          "metadata": {
            "tags": []
          },
          "execution_count": 18
        },
        {
          "output_type": "display_data",
          "data": {
            "image/png": "[encoded data removed]",
            "text/plain": [
              "<Figure size 936x936 with 1 Axes>"
            ]
          },
          "metadata": {
            "tags": []
          }
        }
      ]
    },
    {
      "cell_type": "code",
      "metadata": {
        "id": "h7QZzrBD5rfZ"
      },
      "source": [
        "#vamos a descomprimir directamente un dt del telescopios 60\n",
        "base_dir=\"/content/drive/MyDrive\"\n",
        "run_tel_61=\"/content/drive/MyDrive/prediccion_datos_muchos_telescopios/datos_muchos_tels_seleccion_6_03_21/extract_iron/iron_tel_61_run_07.dt\""
      ],
      "execution_count": null,
      "outputs": []
    },
    {
      "cell_type": "code",
      "metadata": {
        "colab": {
          "base_uri": "https://localhost:8080/"
        },
        "id": "j35GjN5-5rb8",
        "outputId": "5caadfcd-0818-45a5-c813-51bc7bea6e86"
      },
      "source": [
        "multiple_dt_2_npy([run_tel_61],base_dir)"
      ],
      "execution_count": null,
      "outputs": [
        {
          "output_type": "stream",
          "text": [
            "iron_tel_61_run_07\n",
            "55 93\n"
          ],
          "name": "stdout"
        }
      ]
    },
    {
      "cell_type": "code",
      "metadata": {
        "colab": {
          "base_uri": "https://localhost:8080/",
          "height": 493
        },
        "id": "xmv8tp7f5rZH",
        "outputId": "cc874257-35b2-41ee-b11e-f767adb9090d"
      },
      "source": [
        "dat_61=\"/content/drive/MyDrive/npy_sin_normal_iron_tel_61_run_07_0.npy\"\n",
        "a1=np.load(dat_61)\n",
        "plt.figure(figsize=(13,13))\n",
        "plt.imshow(a1[1])"
      ],
      "execution_count": null,
      "outputs": [
        {
          "output_type": "execute_result",
          "data": {
            "text/plain": [
              "<matplotlib.image.AxesImage at 0x7f94a243dd90>"
            ]
          },
          "metadata": {
            "tags": []
          },
          "execution_count": 28
        },
        {
          "output_type": "display_data",
          "data": {
            "image/png": "[encoded data removed]",
            "text/plain": [
              "<Figure size 936x936 with 1 Axes>"
            ]
          },
          "metadata": {
            "tags": []
          }
        }
      ]
    },
    {
      "cell_type": "markdown",
      "metadata": {
        "id": "93g4uJ0j64IW"
      },
      "source": [
        "**PUES NADA QUE EL 58,59,60,61 SON TELESCOPIOS DE LOS GRANDES , LO CUAL ESTA MAL PERO BUENO...**"
      ]
    },
    {
      "cell_type": "markdown",
      "metadata": {
        "id": "aWu6Cc1R5fgS"
      },
      "source": [
        "## Comprobar que estan todos los dt como npy"
      ]
    },
    {
      "cell_type": "code",
      "metadata": {
        "id": "H5vFquP99PGl"
      },
      "source": [
        "#ahora vamos a comprobar qeu exactamente, estan los mismos dt que npy \n",
        " \n",
        "def dif_dt_txt(dirs,faltantes=False,max_val=None,ending=(\".dt\",\".txt\")):\n",
        "    #esta funcion comprueba si hay los mismo archivos para txt y dt y cuales faltan y hasta que run llegan\n",
        "    #devuelve un diccionario con los telescopios y las runs de cada uno\n",
        " \n",
        "    #si pedimos los faltantes y damos un max_val obtenemos los que no hay en cada run\n",
        "    if (len(dirs)==2) and (type(dirs==list)):\n",
        "        os.chdir(dirs[0])\n",
        "        file_dt=glob.glob(f\"*{ending[0]}\")\n",
        "        os.chdir(dirs[1])\n",
        "        file_txt=glob.glob(f\"npy_*{ending[1]}\")\n",
        "    elif (len(dirs)==1) and (type(dirs==list)):\n",
        "        os.chdir(dirs[0])\n",
        "        file_dt=glob.glob(f\"*{ending[0]}\")\n",
        "        file_txt=glob.glob(f\"*{ending[1]}\")\n",
        "    elif type(dirs)!=list:\n",
        "        os.chdir(dirs)\n",
        "        file_dt=glob.glob(f\"*{ending[0]}\")\n",
        "        file_txt=glob.glob(f\"*{ending[1]}\")\n",
        "    else:\n",
        "        print(\"ERROR CON DIRS \")\n",
        "        return None\n",
        " \n",
        "    #primero extraemos la informacion importante, el tel y la run\n",
        "    tel_run_dt=np.array([ np.array([ re.findall(\"tel_([0-9]*)_\",i)[0] ,re.findall(\"run_([0-9]*).\",i)[0]],dtype=\"int\")  for i in file_dt])\n",
        "    tel_run_txt=np.array([ np.array([ re.findall(\"tel_([0-9]*)_\",i)[0] ,re.findall(\"run_([0-9]*).\",i)[0] ],dtype=\"int\")  for i in file_txt])\n",
        " \n",
        "    #una vez tenemos la info, queremos ver si son iguales\n",
        "    #primero las dimensiones\n",
        "    if tel_run_dt.shape[0]!=tel_run_txt.shape[0]:\n",
        "        print(\"Error con las dimensiones, no hay los mismos\")\n",
        "        if tel_run_dt.shape[0] > tel_run_txt.shape[0]:\n",
        "            for i in tel_run_dt:\n",
        "                if not np.all(tel_run_txt==i,axis=-1).any():\n",
        "                    print(f\"El tel_{i[0]}_run_{i[1]}.{ending[0]} no tiene correspondiente {ending[1]}.\")\n",
        "        else:\n",
        "            for i in tel_run_txt:\n",
        "                if not np.all(tel_run_dt==i,axis=-1).any():\n",
        "                    print(f\"El tel_{i[0]}_run_{i[1]}.{ending[1]} no tiene correspondiente {ending[0]}.\")\n",
        "        return None\n",
        " \n",
        "    #son iguales las dos listas?\n",
        "    salir=False\n",
        "    for i in tel_run_dt:\n",
        "        if i not in tel_run_txt:\n",
        "            print(f\"{i} no tiene correspondiente {ending[0]}\")\n",
        "            salir=True\n",
        "    for i in tel_run_txt:\n",
        "        if i not in tel_run_dt:\n",
        "            print(f\"{i} no tiene correspondiente {ending[1]}\")\n",
        "            salir=True\n",
        "    if salir:\n",
        "        return None\n",
        "    else:\n",
        "        print(f\"Para {os.path.basename(dirs[1])} todos los {ending[1]} tienen {ending[0]} y viceversa, todo bien.\")\n",
        "    \n",
        "    #si las dimensiones sí estan bien entonces pasamos a listar los telescopios que hay para cada elemento y las runs para cada telescopio\n",
        "    telescopios=sorted(np.unique(tel_run_dt[:,0]))\n",
        "    runs=[sorted(tel_run_dt[tel_run_dt[:,0]==i][:,1]) for i in telescopios]\n",
        "    #por ultimo vamos a hacer un diccionario que tenga el telescopios y las runs que agrupa\n",
        "    if not faltantes:\n",
        "        return dict(zip(telescopios,runs))\n",
        "    else:\n",
        "        if max_val is None:\n",
        "            print(\"pasa un valor maximo para las runs\")\n",
        "            return None\n",
        "        else:\n",
        "            runs_reales=np.arange(1,max_val+1)\n",
        "            run_faltantes=[]\n",
        "            for i in range(len(runs)):\n",
        "                faltan=[]\n",
        "                for j in runs_reales:\n",
        "                    if j not in runs[i]:\n",
        "                        faltan.append(j)\n",
        "                run_faltantes.append(faltan)\n",
        "            diccionario=dict(zip(telescopios,run_faltantes))\n",
        "            for i in telescopios:\n",
        "                if (diccionario[i]==[]):\n",
        "                    diccionario.pop(i)\n",
        "            return diccionario"
      ],
      "execution_count": null,
      "outputs": []
    },
    {
      "cell_type": "code",
      "metadata": {
        "id": "24trD6AixfrJ",
        "colab": {
          "base_uri": "https://localhost:8080/"
        },
        "outputId": "0991d622-62e7-445f-b904-d0f1991187d1"
      },
      "source": [
        "#comprobamos para el iron\n",
        "elementos=[\"gamma\"]#,\"nitrogen\",\"silicon\",\"electron\",\"helium\",\"proton\",\"gamma\"]\n",
        "max_runs=41#,40,40,40,40,40,41]\n",
        " \n",
        "lista=[]\n",
        "for j,elem in enumerate(elementos):\n",
        "    carpeta1=f\"{npy_save_dir}/extract_{elem}\"\n",
        "    carpeta2=f\"{npy_data}/npy_{elem}\"\n",
        "    lista.append(dif_dt_txt([carpeta1,carpeta2],faltantes=True,max_val=max_runs,ending=(\".dt\",\".npy\")))\n",
        " \n",
        "lista=dict(zip(elementos,lista))\n",
        "lista"
      ],
      "execution_count": null,
      "outputs": [
        {
          "output_type": "stream",
          "text": [
            "Para npy_gamma todos los .npy tienen .dt y viceversa, todo bien.\n"
          ],
          "name": "stdout"
        },
        {
          "output_type": "execute_result",
          "data": {
            "text/plain": [
              "{'gamma': {}}"
            ]
          },
          "metadata": {
            "tags": []
          },
          "execution_count": 38
        }
      ]
    },
    {
      "cell_type": "code",
      "metadata": {
        "colab": {
          "base_uri": "https://localhost:8080/"
        },
        "id": "ZqRgahUc4W2u",
        "outputId": "d2708c1f-b172-4c5f-9296-2922369b9730"
      },
      "source": [
        "lista"
      ],
      "execution_count": null,
      "outputs": [
        {
          "output_type": "execute_result",
          "data": {
            "text/plain": [
              "{'gamma': {}}"
            ]
          },
          "metadata": {
            "tags": []
          },
          "execution_count": 39
        }
      ]
    },
    {
      "cell_type": "markdown",
      "metadata": {
        "id": "_EZdPDinTii7"
      },
      "source": [
        "# Extracción elementos para el telescopio 1"
      ]
    },
    {
      "cell_type": "code",
      "metadata": {
        "id": "YljUU2o_FDNL"
      },
      "source": [
        "base_dir_dt=\"/content/drive/MyDrive/analisis_datos_tfg_inicial_hasta_4_02_21\"\n",
        "dest_dir_npy=\"/content/drive/MyDrive/prediccion_datos_muchos_telescopios/datos_muchos_tels_seleccion_6_03_21/npy_data/npy_elementos_tel_1\"\n"
      ],
      "execution_count": null,
      "outputs": []
    },
    {
      "cell_type": "code",
      "metadata": {
        "id": "zspxWSzzUm5o"
      },
      "source": [
        "#tenemos que pasarle una lista de los archivos a descomprimir y decirle donde\n",
        "elementos=[\"nitrogen\",\"gamma\",\"silicon\",\"electron\",\"helium\",\"proton\",\"iron\"]\n",
        " \n",
        "#vamos a entrar en cada extract folder,\n",
        "#vamos a convertir cada .dt en un npy en una carpeta npy_elemento en npy_data\n",
        "#ya estaría\n",
        " \n",
        "for i,j in enumerate(elementos):\n",
        "    #cargamos los nombres que necesitamos \n",
        "    if j==\"gamma\":\n",
        "        fold_name=f\"{base_dir_dt}/gamma/gamma_dt\"  \n",
        "    else:    \n",
        "        fold_name=f\"{base_dir_dt}/{j}\"  \n",
        "    names_files=lista_dt(fold_name)\n",
        "    #long=len(names_files)//2\n",
        "    #long2=len(names_files)-len(names_files)//3\n",
        "    #names_files=names_files[long2:]\n",
        "    #creamos la carpeta destino\n",
        "    carpeta_destino_name=f\"{dest_dir_npy}/npy_tel_1_{j}\"\n",
        "    os.mkdir(carpeta_destino_name)\n",
        "    #ahora solo tenemos que darle a la funcion la lista y el destino\n",
        "    out=multiple_dt_2_npy(names_files,carpeta_destino_name,save_events_id=True,verbose=True)\n",
        "    with open(f\"{dest_dir_npy}/verbose_npy_{j}_tel_1.txt\",\"w\") as file_aux:\n",
        "        file_aux.write(str(out)) #podriamos poner .replace(\"[\",\"\").replace(\"]\",\"\") para quitar los bordes\n",
        "        file_aux.close()\n",
        "    del out"
      ],
      "execution_count": null,
      "outputs": []
    },
    {
      "cell_type": "code",
      "metadata": {
        "id": "LGGWf2kqWbVb"
      },
      "source": [
        ""
      ],
      "execution_count": null,
      "outputs": []
    },
    {
      "cell_type": "markdown",
      "metadata": {
        "id": "oFlFyCuDUjNw"
      },
      "source": [
        "# Datos sin ruido según la simulación.\n",
        "\n",
        "En los datos se nus indica en la sexta columna que valore son reales y cuales son debido a ruido y tal. Vamos a ver si esto puede utilizarse para la construccion de un autoencoder que nos simplifique todo."
      ]
    },
    {
      "cell_type": "code",
      "metadata": {
        "id": "i3TcfBj-U5yJ"
      },
      "source": [
        "\n",
        "def simple_load_dt_2_npy(file,verbose=False,save=False,save_events_id=False,npy_dir_aux=None,truth_sim=True):\n",
        "    num_pix_x=0\n",
        "    num_pix_y=0\n",
        "    verbose_list=[]\n",
        "    dt_list=[]  \n",
        "    nombre_archivo=re.findall(\"([a-zA-Z]*_tel_[0-9]*_run_\\d\\d).dt\",file)[0]\n",
        "    aux_df=pd.read_csv(file,sep='  ',names=[\"1\",\"2\",\"3\",\"4\",\"5\",\"6\"],engine=\"python\")\n",
        "    #ahora la procesamos y la guardamos en un npy\n",
        "    if truth_sim:\n",
        "        value_auf=aux_df.loc[aux_df.loc[:,\"6\"]==1][['1','3','4','5']].copy()\n",
        "    else:\n",
        "        value_auf=aux_df[['1','3','4','5']].copy()\n",
        "\n",
        "    del aux_df\n",
        "    #tenemos que agupar los valores \n",
        "    value_auf.loc[value_auf[\"5\"]<0,\"5\"]=0\n",
        "    #max_aux=np.amax(value_auf[\"5\"])\n",
        "    #value_auf[\"5\"]=value_auf[\"5\"]/max_aux\n",
        "    x_minimo=min(value_auf['3'])\n",
        "    y_minimo=min(value_auf['4'])\n",
        "    events=value_auf[\"1\"].unique()\n",
        "    num_pix_x_aux=value_auf[\"3\"].unique().size\n",
        "    num_pix_y_aux=value_auf[\"4\"].unique().size\n",
        "    if (num_pix_x != num_pix_x_aux) or (num_pix_y != num_pix_y_aux) : #tenemos que ser capacer de cambiar segun si observamos un telescopio u otro\n",
        "        num_pix_x=num_pix_x_aux\n",
        "        num_pix_y=num_pix_y_aux\n",
        "        if verbose:\n",
        "            #print(num_pix_x,num_pix_y)\n",
        "            verbose_list.append((num_pix_x,num_pix_y))\n",
        "\n",
        "        x_minimo=min(value_auf['3'])\n",
        "        y_minimo=min(value_auf['4'])\n",
        "        ##!!!esto puede dar problemas si resulta que para el primer evento faltan datos o algo...\n",
        "        auxiliar=value_auf.loc[value_auf[\"1\"]==events[0]][[\"3\",\"4\",\"5\"]].to_numpy()\n",
        "        #ahora tenemos los datos de los pixeles, podemos obtener lo que ocupa cada pixel\n",
        "        size_pix_x=np.ceil((max(auxiliar[:,0])-min(auxiliar[:,0]))/(np.unique(auxiliar[:,0]).size-1))\n",
        "        size_pix_y=np.ceil((max(auxiliar[:,1])-min(auxiliar[:,1]))/(np.unique(auxiliar[:,1]).size-1))\n",
        "        del auxiliar\n",
        "    if verbose:\n",
        "        #print(nombre_archivo,end=\"\\n\")\n",
        "        verbose_list.append(nombre_archivo)\n",
        "\n",
        "    value_auf.loc[:,'3']=value_auf['3'].apply(lambda x: round((x-x_minimo)/size_pix_x))\n",
        "    value_auf.loc[:,'4']=value_auf['4'].apply(lambda x: round((x-y_minimo)/size_pix_y))\n",
        "    #event_aux=value_auf[\"1\"].unique()\n",
        "    for k in range(np.shape(events)[0]):\n",
        "        #cada evento tiene que ponerse en una imagen con sus valores\n",
        "        array_aux=value_auf.loc[value_auf[\"1\"]==events[k]][[\"3\",\"4\",\"5\"]]\n",
        "        #lo que vamos a hacer es poner los valores en una matriz creada de antemano y guardar esa matrix\n",
        "        #esos numeros vienen del maximo y el minimo valor para los pixeles, simplemente shifteamos todo\n",
        "        matrix_aux=np.zeros((num_pix_x,num_pix_y)) #eran 60-5= 55 y 131-38\n",
        "        matrix_aux[array_aux[\"3\"].to_numpy(),array_aux[\"4\"].to_numpy()]=array_aux[\"5\"].to_numpy() \n",
        "        dt_list.append(matrix_aux)\n",
        "\n",
        "    if save:\n",
        "        name_npy=f\"{npy_dir_aux}/npy_sin_normal_{nombre_archivo}_{contador_nombre}.npy\"\n",
        "        np.save(name_npy,np.array(dt_list))\n",
        "    if save_events_id:\n",
        "        name_npy_events=f\"{npy_dir_aux}/id_eventos_npy_sin_normal_{nombre_archivo}.npy\"\n",
        "        np.save(name_npy_events,np.array(events))\n",
        "    if verbose:\n",
        "        return verbose_list, np.array(dt_list)\n",
        "    else:\n",
        "        return np.array(dt_list)"
      ],
      "execution_count": null,
      "outputs": []
    },
    {
      "cell_type": "code",
      "metadata": {
        "id": "NqVJkNqLaGeW"
      },
      "source": [
        "#funcion que nos suaviza todo para que la red asimile mejor las cosicas\n",
        "def fill_holes(npy):\n",
        "    npy_aux=npy.copy()\n",
        "    if type(npy)!=np.ndarray:\n",
        "        print(\"Error input\")\n",
        "        return\n",
        "    #para cada elemento que sea cero lo rellenamos con la media de los vecinos\n",
        "    indices=np.where(npy[1:-1,1:-1]==0)\n",
        "    indices_1=indices[1]+1\n",
        "    indices_0=indices[0]+1\n",
        "    for i in range(indices_1.shape[0]):\n",
        "        media=(npy[indices_0[i]-1,indices_1[i]]+npy[indices_0[i],indices_1[i]-1]+npy[indices_0[i]+1,indices_1[i]]+npy[indices_0[i],indices_1[i]+1])/4\n",
        "        npy_aux[indices_0[i],indices_1[i]]=media\n",
        "    return npy_aux"
      ],
      "execution_count": null,
      "outputs": []
    },
    {
      "cell_type": "code",
      "metadata": {
        "id": "Q5vaXZ01Xy7b"
      },
      "source": [
        "ruta_aux=\"/content/drive/MyDrive/prediccion_datos_muchos_telescopios/datos_muchos_tels_seleccion_6_03_21/extract_helium/helium_tel_11_run_18.dt\"\n",
        "\n",
        "a=simple_load_dt_2_npy(ruta_aux)\n",
        "b=simple_load_dt_2_npy(ruta_aux,truth_sim=False)"
      ],
      "execution_count": null,
      "outputs": []
    },
    {
      "cell_type": "code",
      "metadata": {
        "id": "mI-Qp6irYNGD"
      },
      "source": [
        "z=np.array(list(map(fill_holes,a))"
      ],
      "execution_count": null,
      "outputs": []
    },
    {
      "cell_type": "code",
      "metadata": {
        "colab": {
          "base_uri": "https://localhost:8080/",
          "height": 162
        },
        "id": "bTWppCUCqAkB",
        "outputId": "eef78ebe-0142-4669-c335-13b1d23da3fd"
      },
      "source": [
        ""
      ],
      "execution_count": null,
      "outputs": [
        {
          "output_type": "error",
          "ename": "IndexError",
          "evalue": "ignored",
          "traceback": [
            "\u001b[0;31m---------------------------------------------------------------------------\u001b[0m",
            "\u001b[0;31mIndexError\u001b[0m                                Traceback (most recent call last)",
            "\u001b[0;32m<ipython-input-65-a7f9b60f1a15>\u001b[0m in \u001b[0;36m<module>\u001b[0;34m()\u001b[0m\n\u001b[0;32m----> 1\u001b[0;31m \u001b[0mnp\u001b[0m\u001b[0;34m.\u001b[0m\u001b[0marray\u001b[0m\u001b[0;34m(\u001b[0m\u001b[0mlist\u001b[0m\u001b[0;34m(\u001b[0m\u001b[0mz\u001b[0m\u001b[0;34m)\u001b[0m\u001b[0;34m)\u001b[0m\u001b[0;34m[\u001b[0m\u001b[0;36m0\u001b[0m\u001b[0;34m]\u001b[0m\u001b[0;34m.\u001b[0m\u001b[0mshape\u001b[0m\u001b[0;34m\u001b[0m\u001b[0;34m\u001b[0m\u001b[0m\n\u001b[0m",
            "\u001b[0;31mIndexError\u001b[0m: index 0 is out of bounds for axis 0 with size 0"
          ]
        }
      ]
    },
    {
      "cell_type": "code",
      "metadata": {
        "colab": {
          "base_uri": "https://localhost:8080/",
          "height": 1000
        },
        "id": "vVxbWozbYtCO",
        "outputId": "2c2df507-b18f-4aef-874d-71d3d5f29ce0"
      },
      "source": [
        "for i in range(5):\n",
        "    plt.figure(figsize=(13,13))\n",
        "    plt.subplot(1,2,1)\n",
        "    plt.imshow(fill_holes(a[i]))\n",
        "\n",
        "    plt.subplot(1,2,2)\n",
        "    plt.imshow(a[i])"
      ],
      "execution_count": null,
      "outputs": [
        {
          "output_type": "display_data",
          "data": {
            "image/png": "[encoded data removed]",
            "text/plain": [
              "<Figure size 936x936 with 2 Axes>"
            ]
          },
          "metadata": {
            "tags": [],
            "needs_background": "light"
          }
        },
        {
          "output_type": "display_data",
          "data": {
            "image/png": "[encoded data removed]",
            "text/plain": [
              "<Figure size 936x936 with 2 Axes>"
            ]
          },
          "metadata": {
            "tags": [],
            "needs_background": "light"
          }
        },
        {
          "output_type": "display_data",
          "data": {
            "image/png": "[encoded data removed]",
            "text/plain": [
              "<Figure size 936x936 with 2 Axes>"
            ]
          },
          "metadata": {
            "tags": [],
            "needs_background": "light"
          }
        },
        {
          "output_type": "display_data",
          "data": {
            "image/png": "[encoded data removed]",
            "text/plain": [
              "<Figure size 936x936 with 2 Axes>"
            ]
          },
          "metadata": {
            "tags": [],
            "needs_background": "light"
          }
        },
        {
          "output_type": "display_data",
          "data": {
            "image/png": "[encoded data removed]",
            "text/plain": [
              "<Figure size 936x936 with 2 Axes>"
            ]
          },
          "metadata": {
            "tags": [],
            "needs_background": "light"
          }
        }
      ]
    }
  ]
}