{
  "nbformat": 4,
  "nbformat_minor": 0,
  "metadata": {
    "colab": {
      "name": "analisis_9_2_21.ipynb",
      "provenance": [],
      "mount_file_id": "1AQTMn05730RACyEaSsA9PE7Qy_eo4zm2",
      "authorship_tag": "ABX9TyPdQpWE46w5UFomUGOap9OT",
      "include_colab_link": true
    },
    "kernelspec": {
      "name": "python3",
      "display_name": "Python 3"
    }
  },
  "cells": [
    {
      "cell_type": "markdown",
      "metadata": {
        "id": "view-in-github",
        "colab_type": "text"
      },
      "source": [
        "<a href=\"https://colab.research.google.com/github/ArturoSirvent/TFG_notebooks/blob/main/single_input/analisis_9_2_21.ipynb\" target=\"_parent\"><img src=\"https://colab.research.google.com/assets/colab-badge.svg\" alt=\"Open In Colab\"/></a>"
      ]
    },
    {
      "cell_type": "code",
      "metadata": {
        "id": "DLx_JvrNFSij"
      },
      "source": [
        "import numpy as np \n",
        "import matplotlib\n",
        "import matplotlib.pyplot as plt \n",
        "import os\n",
        "import pandas as pd\n",
        "import glob \n",
        "import re\n"
      ],
      "execution_count": null,
      "outputs": []
    },
    {
      "cell_type": "code",
      "metadata": {
        "colab": {
          "base_uri": "https://localhost:8080/"
        },
        "id": "YAuDoD_VFzcQ",
        "outputId": "7970a60d-f064-4945-e3d9-efbd1f681036"
      },
      "source": [
        "#ahora vamos a cargar los datos dt segun telescopio, luego las evaluaremos tanto por RUN como juntas\n",
        "datos_dir=\"/content/drive/MyDrive/analisis_datos_tfg_inicial_hasta_4_02_21/ultimo_analisis_9_2_21\"\n",
        "os.chdir(datos_dir)\n",
        "#vamos a hacer un bucle for para ir por los telescopios\n",
        "for i in range(1,2):\n",
        "  print(i)\n",
        "  names_aux=glob.glob(\"gamma_tel_\"+str(i)+\"_*.dt\")\n",
        "  print(names_aux)\n",
        "  for j in range(len(names_aux)):\n",
        "    print(names_aux[j],end=\"\\n\")\n",
        "    datos_aux=[]\n",
        "    aux_df=pd.read_csv(os.path.join(datos_dir,names_aux[j]),sep='  ',names=[\"1\",\"2\",\"3\",\"4\",\"5\",\"6\"],engine=\"python\")\n",
        "    #ahora la procesamos y la guardamos en un npy\n",
        "    value_auf=aux_df[['1','3','4','5']].copy()\n",
        "    del aux_df\n",
        "    #tenemos que agupar los valores y normalizarlos \n",
        "    value_auf.loc[value_auf[\"5\"]<0]=0\n",
        "    max_aux=np.amax(value_auf[\"5\"])\n",
        "    value_auf[\"5\"]=value_auf[\"5\"]/max_aux\n",
        "    x_minimo=min(value_auf['3'])\n",
        "    y_minimo=min(value_auf['4'])\n",
        "    value_auf['3']=value_auf['3'].apply(lambda x: round((x-x_minimo)/333))\n",
        "    value_auf['4']=value_auf['4'].apply(lambda x: round((x-y_minimo)/192))\n",
        "    event_aux=value_auf[\"1\"].unique()\n",
        "    print(event_aux)\n",
        "\n",
        "    for k in event_aux:\n",
        "      #cada evento tiene que ponerse en una imagen con sus valores\n",
        "      array_aux=value_auf.loc[value_auf[\"1\"]==k][[\"3\",\"4\",\"5\"]]\n",
        "      #lo que vamos a hacer es qponer los valores en una matriz creada de antemano y guardar esa matrix\n",
        "      matrix_aux=np.zeros((60-5,131-38))\n",
        "      matrix_aux[array_aux[\"3\"].to_numpy()-5,array_aux[\"4\"].to_numpy()-39]=array_aux[\"5\"].to_numpy()\n",
        "      datos_aux.append(matrix_aux)\n",
        "    name_npy=os.path.join(datos_dir,\"telesc_\"+str(i)+\"_RUN_\"+str(j+1)+\".npy\")\n",
        "    np.save(name_npy,np.array(datos_aux))"
      ],
      "execution_count": null,
      "outputs": [
        {
          "output_type": "stream",
          "text": [
            "1\n",
            "['gamma_tel_1_run_01.dt']\n",
            "gamma_tel_1_run_01.dt\n",
            "[   100      0    200 ... 199700 199800 199900]\n"
          ],
          "name": "stdout"
        }
      ]
    },
    {
      "cell_type": "code",
      "metadata": {
        "id": "F9_RSHGwHNAz"
      },
      "source": [
        "#para todos\n",
        "datos_dir=\"/content/drive/MyDrive/analisis_datos_tfg_inicial_hasta_4_02_21/ultimo_analisis_9_2_21\"\n",
        "datos_total=[]\n",
        "for i in range(1,2):\n",
        "  os.chdir(datos_dir)\n",
        "  archivos=glob.glob(\"telesc_\"+str(i)+\"_*.npy\")\n",
        "  matriz_total=np.zeros((60-5,131-38))\n",
        "  datos_total=[]\n",
        "  for k in archivos:\n",
        "    datos=np.load(os.path.join(datos_dir,k))\n",
        "    datos_total.append(datos)\n",
        "    matriz_total+=sum(datos)\n",
        "  nombre_aux=\"telescopio_\"+str(i)+\"_todas_RUNS\"\n",
        "  nombre_aux_suma_img=\"suma_total_\"+nombre_aux\n",
        "  \n",
        "  #np.save(os.path.join(stats_dir,nombre_aux_suma_np),matrix_aux)\n",
        "  plt.figure(figsize=(16,16))\n",
        "  plt.imshow(matriz_total,aspect=\"auto\")\n",
        "  plt.colorbar()\n",
        "  plt.title(nombre_aux_suma_img,fontsize=14)\n",
        "  \n",
        "  plt.tight_layout()\n",
        "  plt.savefig(os.path.join(datos_dir,nombre_aux)+\".png\")\n",
        "  plt.close()"
      ],
      "execution_count": null,
      "outputs": []
    },
    {
      "cell_type": "code",
      "metadata": {
        "id": "9Q3uGSvMKvBK"
      },
      "source": [
        "#ahora queremos ver los resultados\n",
        "datos_dir_npy=\"/content/drive/MyDrive/analisis_datos_tfg_inicial_hasta_4_02_21/ultimo_analisis_9_2_21\"\n",
        "os.chdir(datos_dir_npy)\n",
        "archivos=glob.glob(\"telesc_\"+str(1)+\"_*.npy\")\n",
        "for i in range(len(archivos)):\n",
        "  datos=np.load(os.path.join(datos_dir_npy,archivos[i]),allow_pickle=True)\n",
        "  nombre_aux=archivos[i].replace(\".npy\",\"\")\n",
        "  nombre_aux_suma_img=\"suma_total_\"+nombre_aux\n",
        "  matrix_aux=sum(datos)\n",
        "  #np.save(os.path.join(stats_dir,nombre_aux_suma_np),matrix_aux)\n",
        "  plt.figure(figsize=(16,16))\n",
        "  plt.subplot(3,3,2)\n",
        "  plt.imshow(matrix_aux,aspect=\"auto\")\n",
        "  plt.title(nombre_aux_suma_img,fontsize=14)\n",
        "  #lo hacemos tambien para las indicendias totales, aquellas que superan un humbral\n",
        "\n",
        "  #ahora calculamos los percentiles\n",
        "  perc=[\"perc75\",\"perc85\",\"perc99.9\"]\n",
        "  vals_perc=[np.percentile(datos,75),np.percentile(datos,85),np.percentile(datos,99.9)]\n",
        "  for j in range(len(perc)):\n",
        "    datos_aux=datos.copy()\n",
        "    nombre_aux_perc_img=\"suma_\"+perc[j]+\"_\"+nombre_aux\n",
        "    datos_aux[datos<vals_perc[j]]=0\n",
        "    matrix_aux=sum(datos_aux)\n",
        "    plt.subplot(3,3,4+j)\n",
        "    plt.imshow(matrix_aux,aspect=\"auto\")\n",
        "    plt.title(nombre_aux_perc_img,fontsize=14)\n",
        "    #lo hacemos tambien para las indicendias totales, aquellas que superan el percentil, las ponemos \n",
        "    #a valor 1 independientemente, y luego sumamos\n",
        "    datos_aux=datos.copy()\n",
        "    datos_aux[datos>=vals_perc[j]]=1.0\n",
        "    datos_aux[datos<vals_perc[j]]=0\n",
        "    matrix_aux=sum(datos_aux)\n",
        "    nombre_aux_perc_img=\"incidencia_\"+perc[j]+\"_\"+nombre_aux\n",
        "    plt.subplot(3,3,7+j)\n",
        "    plt.imshow(matrix_aux,aspect=\"auto\")\n",
        "    plt.title(nombre_aux_perc_img,fontsize=14)\n",
        "  plt.tight_layout()\n",
        "  plt.savefig(os.path.join(datos_dir_npy,nombre_aux)+\".png\")\n",
        "  plt.close()"
      ],
      "execution_count": null,
      "outputs": []
    },
    {
      "cell_type": "code",
      "metadata": {
        "id": "wuBt2tqFL57m"
      },
      "source": [
        ""
      ],
      "execution_count": null,
      "outputs": []
    }
  ]
}